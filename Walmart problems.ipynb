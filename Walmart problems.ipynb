{
 "cells": [
  {
   "cell_type": "markdown",
   "metadata": {},
   "source": [
    "## Walmart leetcode"
   ]
  },
  {
   "cell_type": "markdown",
   "metadata": {},
   "source": [
    "### 697. Degree of an Array\n",
    "\n",
    "Given a non-empty array of non-negative integers nums, the degree of this array is defined as the maximum frequency of any one of its elements.\n",
    "\n",
    "Your task is to find the smallest possible length of a (contiguous) subarray of nums, that has the same degree as nums.\n"
   ]
  },
  {
   "cell_type": "code",
   "execution_count": 7,
   "metadata": {},
   "outputs": [],
   "source": [
    "nums = [1,2,2,3,1] # answer = 2"
   ]
  },
  {
   "cell_type": "code",
   "execution_count": 8,
   "metadata": {},
   "outputs": [],
   "source": [
    "# Raw solution\n",
    "class Solution(object):\n",
    "    def findShortestSubArray(nums):\n",
    "        \"\"\"\n",
    "        :type nums: List[int]\n",
    "        :rtype: int\n",
    "        \"\"\"\n",
    "        dict_index = {}\n",
    "        dict_count = {}\n",
    "        max_count = 1\n",
    "        max_length = 1\n",
    "\n",
    "        for i in range(len(nums)):\n",
    "            \n",
    "            if nums[i] not in dict_count:\n",
    "                dict_count[nums[i]] = 1\n",
    "                dict_index[nums[i]] = [i,i]\n",
    "                \n",
    "            elif nums[i] in dict_count:\n",
    "                dict_count[nums[i]] += 1\n",
    "                dict_index[nums[i]][1] = i\n",
    "            \n",
    "            if dict_count[nums[i]] > max_count:\n",
    "                max_count = dict_count[nums[i]]\n",
    "                max_length = dict_index[nums[i]][-1] - dict_index[nums[i]][0] + 1\n",
    "                \n",
    "            elif dict_count[nums[i]] == max_count:\n",
    "                max_length = min(max_length, dict_index[nums[i]][-1] - dict_index[nums[i]][0]+1)\n",
    "                \n",
    "        \n",
    "        return max_length\n",
    "                "
   ]
  },
  {
   "cell_type": "code",
   "execution_count": 10,
   "metadata": {},
   "outputs": [
    {
     "data": {
      "text/plain": [
       "2"
      ]
     },
     "execution_count": 10,
     "metadata": {},
     "output_type": "execute_result"
    }
   ],
   "source": [
    "Solution.findShortestSubArray(nums)"
   ]
  },
  {
   "cell_type": "code",
   "execution_count": 12,
   "metadata": {},
   "outputs": [],
   "source": [
    "class Solution:\n",
    "    def findShortestSubArray(nums):\n",
    "        left,right,count = {},{},{} #设置一个记住左边和右边的dict, 还有count和dict.思想和raw solution 里面的一样\n",
    "        for i,x in enumerate(nums):\n",
    "            if x not in left: \n",
    "                left[x] = i \n",
    "            right[x] = i\n",
    "            count[x] = count.get(x,0)+1 #用get(key，default)而不是dict[key]的好处是，如果key不在里面，会自动返回default值\n",
    "        \n",
    "        ans = len(nums)\n",
    "        degree = max(count.values())\n",
    "        for x in count: # 这里用了第二个loop来比较是在最大freq的情况下的最短subarray\n",
    "            if count[x]==degree:\n",
    "                ans = min(ans, right[x]-left[x]+1)\n",
    "        \n",
    "        return(ans)"
   ]
  },
  {
   "cell_type": "code",
   "execution_count": 13,
   "metadata": {},
   "outputs": [
    {
     "data": {
      "text/plain": [
       "2"
      ]
     },
     "execution_count": 13,
     "metadata": {},
     "output_type": "execute_result"
    }
   ],
   "source": [
    "Solution.findShortestSubArray(nums)"
   ]
  },
  {
   "cell_type": "markdown",
   "metadata": {},
   "source": [
    "### 355. Design Twitter\n",
    "\n",
    "Design a simplified version of Twitter where users can post tweets, follow/unfollow another user, and is able to see the 10 most recent tweets in the user's news feed.\n",
    "\n",
    "Implement the Twitter class:\n",
    "\n",
    "Twitter() Initializes your twitter object.\n",
    "void postTweet(int userId, int tweetId) Composes a new tweet with ID tweetId by the user userId. Each call to this function will be made with a unique tweetId.\n",
    "List<Integer> getNewsFeed(int userId) Retrieves the 10 most recent tweet IDs in the user's news feed. Each item in the news feed must be posted by users who the user followed or by the user themself. Tweets must be ordered from most recent to least recent.\n",
    "void follow(int followerId, int followeeId) The user with ID followerId started following the user with ID followeeId.\n",
    "void unfollow(int followerId, int followeeId) The user with ID followerId started unfollowing the user with ID followeeId.\n",
    "    "
   ]
  },
  {
   "cell_type": "code",
   "execution_count": 6,
   "metadata": {},
   "outputs": [],
   "source": [
    "# Raw solution (beat 98%, 这道题主要复习class的构建，和queue还有stack的用法)\n",
    "class Twitter:\n",
    "\n",
    "    def __init__(self):\n",
    "        \n",
    "        self.user_userId = []\n",
    "        self.user_postId = []\n",
    "        self.user_follow = {}\n",
    "        \n",
    "\n",
    "    def postTweet(self, userId: int, tweetId: int) -> None:\n",
    "        self.user_postId.insert(0, tweetId)  #创建tweet顺序，后发的放在前面\n",
    "        self.user_userId.insert(0, userId)   #同上\n",
    "        \n",
    "\n",
    "    def getNewsFeed(self, userId: int):\n",
    "\n",
    "        all_user = [userId] + self.user_follow.get(userId,[]) #找到全部user,包括自己和followee\n",
    "        newsFeed_index = [index for index, x in enumerate(self.user_userId) if x in all_user] #找user 对应index\n",
    "\n",
    "        newsFeed = [news for index, news in enumerate(self.user_postId) if index in newsFeed_index] #找到index对应的newfeed\n",
    "        if len(newsFeed) > 10:\n",
    "            newsFeed = newsFeed[:10] #筛出最新的10条\n",
    "        \n",
    "        return newsFeed\n",
    "        \n",
    "\n",
    "    def follow(self, followerId: int, followeeId: int) -> None:\n",
    "        if followerId not in self.user_follow:\n",
    "            self.user_follow[followerId] = [followeeId]\n",
    "        else:\n",
    "            self.user_follow[followerId].append(followeeId) #把 followee放在dict相关位置的list里面\n",
    "        \n",
    "\n",
    "    def unfollow(self, followerId: int, followeeId: int) -> None:\n",
    "        if followeeId in self.user_follow.get(followerId,[]):\n",
    "            self.user_follow[followerId].pop(self.user_follow[followerId].index(followeeId)) #把 unfollowee pop出去\n",
    "        "
   ]
  },
  {
   "cell_type": "markdown",
   "metadata": {},
   "source": [
    "### 790. Domino and Tromino Tiling\n",
    "\n",
    "You have two types of tiles: a 2 x 1 domino shape and a tromino shape. You may rotate these shapes.\n",
    "\n",
    "\n",
    "Given an integer n, return the number of ways to tile an 2 x n board. Since the answer may be very large, return it modulo 109 + 7.\n",
    "\n",
    "In a tiling, every square must be covered by a tile. Two tilings are different if and only if there are two 4-directionally adjacent cells on the board such that exactly one of the tilings has both squares occupied by a tile."
   ]
  },
  {
   "cell_type": "markdown",
   "metadata": {},
   "source": [
    "- Fully covered board: All tiles on board are covered by a domino or a tromino.\n",
    "- Partially covered board: Same as a fully covered board, except leave the tile in the upper-right corner (the top row of the rightmost column) uncovered. \n",
    "- Note, a board with only the lower-right corner uncovered is also considered \"partially covered.\" However, as we will discover soon, we do not need to keep track of which corner is uncovered because of symmetry.\n",
    "- f(k): The number of ways to fully cover a board of width kk.\n",
    "- p(k): The number of ways to partially cover a board of width kk."
   ]
  },
  {
   "cell_type": "code",
   "execution_count": 14,
   "metadata": {},
   "outputs": [],
   "source": [
    "# 这道题只能用dynamic programming去解。其实就是找规律。\n",
    "# 长度为 n 的board的组合方法是长度为 n-1 的组合方法 （加一条竖的domino）加上 n -2 组合方法 （加两条横的domino） \n",
    "# 再加上 2乘以 n-1 的partial board组合方法 （partial board加一个L）.乘以2是因为可以上面或者下面缺一个的partial board\n",
    "\n",
    "# 长度为 n 的partial board的组合方法其实就是长度为 n-2的full board (上或下对称的两种加L的方法) \n",
    "# 再加上 partial board n-1的组合方法 （加一条横的domino）"
   ]
  },
  {
   "cell_type": "code",
   "execution_count": 15,
   "metadata": {},
   "outputs": [],
   "source": [
    "# 用list的记录\n",
    "class Solution:\n",
    "    def numTilings(self, n: int) -> int:\n",
    "        MOD = 1_000_000_007\n",
    "        f = n * [0]\n",
    "        p = n * [0]\n",
    "        \n",
    "        if n == 1:\n",
    "            return 1\n",
    "        elif n == 2:\n",
    "            return 2\n",
    "        \n",
    "        f[0] = 1\n",
    "        f[1] = 2\n",
    "        p[1] = 1\n",
    "        \n",
    "        for i in range(2, n):\n",
    "\n",
    "            f[i] = (f[i-1] + f[i-2] + 2*p[i-1]) % MOD\n",
    "            p[i] = (p[i-1] + f[i-2]) % MOD\n",
    "            \n",
    " \n",
    "        return f[n]"
   ]
  },
  {
   "cell_type": "markdown",
   "metadata": {},
   "source": [
    "### 49. Group Anagrams\n",
    "Given an array of strings strs, group the anagrams together. You can return the answer in any order.\n",
    "\n",
    "An Anagram is a word or phrase formed by rearranging the letters of a different word or phrase, typically using all the original letters exactly once."
   ]
  },
  {
   "cell_type": "code",
   "execution_count": 8,
   "metadata": {},
   "outputs": [],
   "source": [
    "# 实际上就是找到每个letter count的dict.然后根据这个dict来判断两个string是不是anagram\n",
    "\n",
    "class Solution(object):\n",
    "    def groupAnagrams(self, strs):\n",
    "        \"\"\"\n",
    "        :type strs: List[str]\n",
    "        :rtype: List[List[str]]\n",
    "        \"\"\"\n",
    "        \n",
    "        distinct_set = []\n",
    "        results = []\n",
    "        \n",
    "        def string_letter_count(string):\n",
    "            res = {}\n",
    "            for l in string:\n",
    "                if l not in res:\n",
    "                    res[l] = 1\n",
    "                else:\n",
    "                    res[l] += 1\n",
    "            return res\n",
    "                    \n",
    "        \n",
    "        for string in strs:\n",
    "            distinct_letters = string_letter_count(string)\n",
    "            \n",
    "            if distinct_letters not in distinct_set:\n",
    "                distinct_set.append(distinct_letters)\n",
    "                results.append([string])\n",
    "            elif distinct_letters in distinct_set:\n",
    "                idx = distinct_set.index(distinct_letters)\n",
    "                results[idx].append(string)\n",
    "            \n",
    "\n",
    "        return results\n",
    "        "
   ]
  },
  {
   "cell_type": "markdown",
   "metadata": {},
   "source": [
    "##### collections.defaultdict()介绍:\n",
    "\n",
    "Usually, a Python dictionary throws a KeyError if you try to get an item with a key that is not currently in the dictionary. The defaultdict in contrast will simply create any items that you try to access (provided of course they do not exist yet). To create such a \"default\" item, it calls the function object that you pass to the constructor (more precisely, it's an arbitrary \"callable\" object, which includes function and type objects). For the first example, default items are created using int(), which will return the integer object 0. For the second example, default items are created using list(), which returns a new empty list object."
   ]
  },
  {
   "cell_type": "code",
   "execution_count": 13,
   "metadata": {},
   "outputs": [],
   "source": [
    "# 找26个字母对应count的列表。\n",
    "\n",
    "# collections.defaultdict使用可以让效率更高\n",
    "import collections\n",
    "class Solution:\n",
    "    def groupAnagrams(self, strs):\n",
    "        ans = collections.defaultdict(list)\n",
    "        for s in strs:\n",
    "            count = [0] * 26\n",
    "            for c in s:\n",
    "                count[ord(c) - ord('a')] += 1 #关键是trick是用ord()找到字母在字母表里的顺序位置\n",
    "            ans[tuple(count)].append(s)\n",
    "        \n",
    "        return ans.values()"
   ]
  },
  {
   "cell_type": "markdown",
   "metadata": {},
   "source": [
    "### 22. Generate Parentheses\n",
    "\n",
    "Given n pairs of parentheses, write a function to generate all combinations of well-formed parentheses."
   ]
  },
  {
   "cell_type": "code",
   "execution_count": 17,
   "metadata": {},
   "outputs": [],
   "source": [
    "# 典型的排列组合题。通过recursive function 生成所有的排列，然后设置条件return\n",
    "\n",
    "class Solution:\n",
    "    def generateParenthesis(self, n: int):\n",
    "        res = []\n",
    "        \n",
    "        def helper(n_left, n_right, par):\n",
    "            if n_left == 0 and n_right == 0: # 条件1：所有左右括号都完美用完\n",
    "                res.append(par) \n",
    "            elif n_left < 0 or n_right < 0: #条件2：括号过度使用\n",
    "                return\n",
    "            elif n_left > n_right: #条件3：剩下的左括号多于右括号（这时使用的右括号多于左括号，所以括号排列不成立）\n",
    "                return\n",
    "            \n",
    "            par += '('\n",
    "            helper(n_left-1, n_right, par)\n",
    "            par = par[:-1]\n",
    "                    \n",
    "            par += ')' \n",
    "            helper(n_left, n_right-1, par)\n",
    "            par = par[:-1]\n",
    "            \n",
    "             \n",
    "            \n",
    "            \n",
    "        helper(n,n,'')\n",
    "        \n",
    "        return(res)"
   ]
  },
  {
   "cell_type": "markdown",
   "metadata": {},
   "source": [
    "#### 练习：定义一个叫做 is_palindrome的方程"
   ]
  },
  {
   "cell_type": "code",
   "execution_count": 67,
   "metadata": {},
   "outputs": [],
   "source": [
    "# little pratice determine if a string is a parlindromic\n",
    "s = 'abcba'\n",
    "d = 'sddfe'\n",
    "\n",
    "def check_parlin(s):\n",
    "    n = len(s)\n",
    "    if n % 2 == 0:\n",
    "        left = s[:n//2]\n",
    "        right = s[n//2:]\n",
    "    elif n % 2 == 1:\n",
    "        left = s[:n//2+1]\n",
    "        right = s[n//2+2:]\n",
    "    \n",
    "    n_right = len(right)\n",
    "    right_rev = [right[n_right - i -1] for i in range(n_right)]\n",
    "    \n",
    "    print(left, right_rev)\n",
    "    \n",
    "    return(left == right_rev)\n"
   ]
  },
  {
   "cell_type": "code",
   "execution_count": 68,
   "metadata": {},
   "outputs": [],
   "source": [
    "## 方法1\n",
    "def check_parlin(s):\n",
    "    list_s = list(s)\n",
    "    n = len(list_s)\n",
    "    list_rev_s = [list_s[n-1-i] for i in range(n)]\n",
    "    \n",
    "    return(list_s == list_rev_s)\n",
    "\n",
    "## 方法2 (two pointer的方法)\n",
    "def is_parlin(s): \n",
    "    list_s = list(s)\n",
    "    n = len(list_s)\n",
    "    left = 0\n",
    "    right = n - 1\n",
    "    \n",
    "    while left < right:\n",
    "        print('left',left)\n",
    "        print('right',right)\n",
    "    \n",
    "        if list_s[left] != list_s[right]:\n",
    "            return False\n",
    "        \n",
    "        left = left + 1\n",
    "        right = right - 1\n",
    "    return True"
   ]
  },
  {
   "cell_type": "markdown",
   "metadata": {},
   "source": [
    "### 22. Generate Parentheses\n",
    "\n",
    "Given a string s, return the longest palindromic substring in s.\n",
    "\n",
    "解法1: brute force. 定义一个function来判断是不是palindromic, 用两个指针loop所有的substring来进行判断是不是最长. 时间复杂度O（n^3)\n",
    "解法2：DP， 中心思想是以一个点（奇数palindromic），或者两个点（偶数palindromic)来往两边扩展。一直括到最大的palindromic为止。 这样时间复杂度是O(n^2)"
   ]
  },
  {
   "cell_type": "code",
   "execution_count": 69,
   "metadata": {},
   "outputs": [],
   "source": [
    "# brute force方法\n",
    "class Solution:\n",
    "    def longestPalindrome(self, s: str) -> str:\n",
    "        \n",
    "        size = len(s)\n",
    "        \n",
    "        def check_parlin(s):\n",
    "            list_s = list(s)\n",
    "            n = len(list_s)\n",
    "            list_rev_s = [list_s[n-1-i] for i in range(n)]\n",
    "\n",
    "            return(list_s == list_rev_s)\n",
    "        \n",
    "        max_parlin = 0\n",
    "        for i in range(size):\n",
    "            for j in range(size):\n",
    "                substr = s[i:j+1]\n",
    "\n",
    "                if check_parlin(substr) and len(substr) > max_parlin:\n",
    "                    max_parlin = max(max_parlin, len(substr))\n",
    "                    res = substr\n",
    "\n",
    "        return(res)\n"
   ]
  },
  {
   "cell_type": "code",
   "execution_count": 70,
   "metadata": {},
   "outputs": [],
   "source": [
    "# DP方法\n",
    "class Solution:\n",
    "    def longestPalindrome(self, s: str) -> str:\n",
    "        \n",
    "        def getlen(s, i, j):\n",
    "            while i >= 0 and j < len(s) and s[i] == s[j]:\n",
    "                i -= 1\n",
    "                j += 1\n",
    "            \n",
    "            return(j - i - 1)\n",
    "        \n",
    "        max_length = 0\n",
    "        for i in range(len(s)):\n",
    "            \n",
    "            length = max(getlen(s, i,i), getlen(s, i,i+1))\n",
    "            \n",
    "            if length > max_length:\n",
    "                start = i - (length-1) //2\n",
    "                end = start + length\n",
    "\n",
    "                    \n",
    "                res = s[start:end]\n",
    "                max_length = max(length, max_length)\n",
    "                \n",
    "        print(max_length)\n",
    "        return(res)\n",
    "        "
   ]
  },
  {
   "cell_type": "markdown",
   "metadata": {},
   "source": [
    "#### 练习：reverse一个list 或者string"
   ]
  },
  {
   "cell_type": "code",
   "execution_count": 6,
   "metadata": {},
   "outputs": [],
   "source": [
    "def reverse_list(l):\n",
    "    \n",
    "    n = len(l)\n",
    "    left = 0\n",
    "    right = n - 1\n",
    "    while left < right:\n",
    "        temp = l[left]\n",
    "        l[left] = l[right]\n",
    "        l[right] = temp\n",
    "        left += 1\n",
    "        right -= 1\n",
    "        \n",
    "    return(l)\n",
    "\n",
    "def reverse_string(s):\n",
    "    n = len(s)\n",
    "    s = list(s)\n",
    "    l = 0\n",
    "    r = n - 1\n",
    "    while l < r:\n",
    "        temp = s[l]\n",
    "        s[l] = s[r]\n",
    "        s[r] = temp\n",
    "        l += 1\n",
    "        r -= 1\n",
    "    \n",
    "    return(''.join(s))"
   ]
  },
  {
   "cell_type": "code",
   "execution_count": 7,
   "metadata": {},
   "outputs": [
    {
     "name": "stdout",
     "output_type": "stream",
     "text": [
      "[4, '6', 'b', 'a', 2, 1]\n"
     ]
    }
   ],
   "source": [
    "example = [1,2,'a','b','6',4]\n",
    "\n",
    "print(reverse_list(example))"
   ]
  },
  {
   "cell_type": "code",
   "execution_count": 8,
   "metadata": {},
   "outputs": [
    {
     "name": "stdout",
     "output_type": "stream",
     "text": [
      "adsd323wfda\n"
     ]
    }
   ],
   "source": [
    "example_string = 'adfw323dsda'\n",
    "\n",
    "print(reverse_string(example_string))"
   ]
  },
  {
   "cell_type": "markdown",
   "metadata": {},
   "source": [
    "### 322. Coin Change\n",
    "\n",
    "You are given an integer array coins representing coins of different denominations and an integer amount representing a total amount of money.\n",
    "\n",
    "Return the fewest number of coins that you need to make up that amount. If that amount of money cannot be made up by any combination of the coins, return -1.\n",
    "\n",
    "You may assume that you have an infinite number of each kind of coin."
   ]
  },
  {
   "cell_type": "code",
   "execution_count": 9,
   "metadata": {},
   "outputs": [],
   "source": [
    "class Solution(object):\n",
    "    def coinChange(self, coins, amount):\n",
    "        \"\"\"\n",
    "        :type coins: List[int]\n",
    "        :type amount: int\n",
    "        :rtype: int\n",
    "        \"\"\"\n",
    "        self.res = []\n",
    "        \n",
    "        coins.sort(reverse = True)\n",
    "      \n",
    "        def search(i, coins, rest_amount, count):\n",
    "            \n",
    "            if self.res and count >= min(self.res): # pruning 剪枝\n",
    "                return\n",
    "            \n",
    "            if rest_amount == 0:\n",
    "                self.res.append(count)\n",
    "                return\n",
    "            \n",
    "            if rest_amount <0:\n",
    "                return\n",
    "            \n",
    "            for i in range(i, len(coins)):\n",
    "                search(i, coins, rest_amount - coins[i], count + 1)\n",
    "                \n",
    "            return\n",
    "                \n",
    "            \n",
    "        search(0, coins, amount, 0)\n",
    "\n",
    "        output = min(self.res) if self.res else -1\n",
    "            \n",
    "        return output      \n",
    "                 "
   ]
  },
  {
   "cell_type": "markdown",
   "metadata": {},
   "source": [
    "### 253. Meeting Rooms II\n",
    "\n",
    "Given an array of meeting time intervals intervals where intervals[i] = [starti, endi], return the minimum number of conference rooms required."
   ]
  },
  {
   "cell_type": "code",
   "execution_count": 11,
   "metadata": {},
   "outputs": [],
   "source": [
    "# 解题逻辑\n",
    "# sort start and sort end\n",
    "# start\n",
    "# | |  |  |\n",
    "# i\n",
    "# end\n",
    "#     |  |   |  |\n",
    "#     end\n",
    "# if i < end: meeting_room += 1\n",
    "# if i > end: end +=1\n",
    "\n",
    "# 核心思想是用一个buffer（就是i和end间的距离）来记录最大房间。如果buffer被用完说明当前overlap的数量要大于buffer，所有res 加1.反之则不用\n",
    "\n",
    "class Solution(object):\n",
    "    def minMeetingRooms(self, intervals):\n",
    "        \"\"\"\n",
    "        :type intervals: List[List[int]]\n",
    "        :rtype: int\n",
    "        \"\"\"\n",
    "        \n",
    "        \n",
    "        n = len(intervals)\n",
    "        \n",
    "        start = n*[0]\n",
    "        end = n*[0]\n",
    "        \n",
    "        for i in range(n):\n",
    "            start[i] = intervals[i][0]\n",
    "            end[i] = intervals[i][1]\n",
    "            \n",
    "        start.sort()\n",
    "        end.sort()\n",
    "\n",
    "        res = 0\n",
    "        end_i = 0\n",
    "        for i in range(n):\n",
    "            if start[i] < end[end_i]:\n",
    "                res += 1\n",
    "            else:\n",
    "                end_i += 1\n",
    "                \n",
    "        \n",
    "        return res"
   ]
  },
  {
   "cell_type": "markdown",
   "metadata": {},
   "source": [
    "### 122. Best Time to Buy and Sell Stock II\n",
    "You are given an integer array prices where prices[i] is the price of a given stock on the ith day.\n",
    "\n",
    "On each day, you may decide to buy and/or sell the stock. You can only hold at most one share of the stock at any time. However, you can buy it then immediately sell it on the same day.\n",
    "\n",
    "Find and return the maximum profit you can achieve."
   ]
  },
  {
   "cell_type": "code",
   "execution_count": null,
   "metadata": {},
   "outputs": [],
   "source": [
    "# 买股票的题目的关键是取出那些增长的片段。就是利益最大化\n",
    "\n",
    "\n",
    "class Solution(object):\n",
    "    def maxProfit(self, prices):\n",
    "        \"\"\"\n",
    "        :type prices: List[int]\n",
    "        :rtype: int\n",
    "        \"\"\"\n",
    "        \n",
    "        # buy, unbuy, sell \n",
    "        profit = 0\n",
    "        for i in range(1, len(prices)):\n",
    "            delta = prices[i] - prices[i-1]\n",
    "            if delta > 0:\n",
    "                profit += delta\n",
    "                \n",
    "        \n",
    "        return profit"
   ]
  },
  {
   "cell_type": "markdown",
   "metadata": {},
   "source": [
    "### 560. Subarray Sum Equals K\n",
    "\n",
    "Given an array of integers nums and an integer k, return the total number of continuous subarrays whose sum equals to k."
   ]
  },
  {
   "cell_type": "code",
   "execution_count": null,
   "metadata": {},
   "outputs": [],
   "source": [
    "# 这是一个超时解达，利用了Prefix sum的思想。prefix_sum_j - prefix_sum_i + num_i = sum(num[i,j])\n",
    "class Solution(object):\n",
    "    def subarraySum(self, nums, k):\n",
    "        \"\"\"\n",
    "        :type nums: List[int]\n",
    "        :type k: int\n",
    "        :rtype: int\n",
    "        \"\"\"\n",
    "        presum = len(nums)*[0]\n",
    "        presum[0] = nums[0]\n",
    "        for i in range(1, len(nums)):\n",
    "            presum[i] = nums[i] + presum[i-1]\n",
    "            \n",
    "        count = 0\n",
    "\n",
    "        for i in range(len(nums)):\n",
    "            for j in range(i, len(nums)):\n",
    "                if presum[j] - presum[i] + nums[i] == k:\n",
    "                    count += 1\n",
    "                    \n",
    "        return count"
   ]
  },
  {
   "cell_type": "code",
   "execution_count": 12,
   "metadata": {},
   "outputs": [],
   "source": [
    "matrix = [[\"1\",\"0\",\"1\",\"0\",\"0\"],[\"1\",\"0\",\"1\",\"1\",\"1\"],[\"1\",\"1\",\"1\",\"1\",\"1\"],[\"1\",\"0\",\"0\",\"1\",\"0\"]]"
   ]
  },
  {
   "cell_type": "code",
   "execution_count": 15,
   "metadata": {},
   "outputs": [
    {
     "name": "stdout",
     "output_type": "stream",
     "text": [
      "5\n"
     ]
    }
   ],
   "source": [
    "for i in range(5,6):\n",
    "    print(i)"
   ]
  },
  {
   "cell_type": "code",
   "execution_count": 64,
   "metadata": {},
   "outputs": [
    {
     "data": {
      "text/plain": [
       "False"
      ]
     },
     "execution_count": 64,
     "metadata": {},
     "output_type": "execute_result"
    }
   ],
   "source": [
    "check_parlin(d)"
   ]
  },
  {
   "cell_type": "code",
   "execution_count": 65,
   "metadata": {},
   "outputs": [
    {
     "data": {
      "text/plain": [
       "'abcba'"
      ]
     },
     "execution_count": 65,
     "metadata": {},
     "output_type": "execute_result"
    }
   ],
   "source": [
    "s"
   ]
  },
  {
   "cell_type": "code",
   "execution_count": 66,
   "metadata": {},
   "outputs": [
    {
     "name": "stdout",
     "output_type": "stream",
     "text": [
      "left 0\n",
      "right 4\n",
      "left 1\n",
      "right 3\n"
     ]
    },
    {
     "data": {
      "text/plain": [
       "True"
      ]
     },
     "execution_count": 66,
     "metadata": {},
     "output_type": "execute_result"
    }
   ],
   "source": [
    "is_parlin(s)"
   ]
  },
  {
   "cell_type": "code",
   "execution_count": 61,
   "metadata": {},
   "outputs": [
    {
     "data": {
      "text/plain": [
       "'b'"
      ]
     },
     "execution_count": 61,
     "metadata": {},
     "output_type": "execute_result"
    }
   ],
   "source": [
    "s[1:2]"
   ]
  },
  {
   "cell_type": "code",
   "execution_count": 21,
   "metadata": {},
   "outputs": [
    {
     "data": {
      "text/plain": [
       "'ab'"
      ]
     },
     "execution_count": 21,
     "metadata": {},
     "output_type": "execute_result"
    }
   ],
   "source": [
    "s[:2]"
   ]
  },
  {
   "cell_type": "code",
   "execution_count": null,
   "metadata": {},
   "outputs": [],
   "source": []
  }
 ],
 "metadata": {
  "kernelspec": {
   "display_name": "Python 3",
   "language": "python",
   "name": "python3"
  },
  "language_info": {
   "codemirror_mode": {
    "name": "ipython",
    "version": 3
   },
   "file_extension": ".py",
   "mimetype": "text/x-python",
   "name": "python",
   "nbconvert_exporter": "python",
   "pygments_lexer": "ipython3",
   "version": "3.7.3"
  }
 },
 "nbformat": 4,
 "nbformat_minor": 2
}
