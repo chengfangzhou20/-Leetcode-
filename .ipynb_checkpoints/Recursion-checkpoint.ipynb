{
 "cells": [
  {
   "cell_type": "markdown",
   "metadata": {},
   "source": [
    "# Recursion\n",
    "\n",
    "递归三要素：\n",
    " - 最低层要有递归出口\n",
    " - 每一层要和上一层有传递的结构/关系\n",
    " - 上一层到下一层要有搜索的方向或者递归的选择（可以是单一方向也可以多个方向）\n",
    "\n",
    "template：\n",
    "\n",
    "def search(parameters):\n",
    "\n",
    "    if condition:\n",
    "        return or update variable\n",
    "        \n",
    "    \n",
    "    # search direction/ stepwise recursion\n",
    "    # we can initiate recursion by change the variables in the function (eg. search(left -1))\n",
    "    # or we can change the variables before calling the function and change it back after it returns to the current level\n",
    "    # eg. left = left -1\n",
    "          search(left)\n",
    "          left = left + 1\n",
    "          \n",
    "    # example of search direction/ recursion\n",
    "    eg. search(left)\n",
    "        search(right)\n",
    "        \n",
    "    eg. for i in range(len(l)):\n",
    "            search(l[i])\n",
    "            \n",
    "    # return to the upper level: we can return variable or if we just need to update some global variable, we can return (null)\n",
    "    \n",
    "    eg. if_true_left = search(left)\n",
    "        if_true_right = search(right)\n",
    "        return (if_true_left or if_true_right)\n",
    "        \n",
    "    eg. search(left)\n",
    "        search(right)\n",
    "        return # return null\n",
    "    \n",
    "    \n",
    "    \n",
    "        \n",
    "    \n",
    "    \n"
   ]
  },
  {
   "cell_type": "code",
   "execution_count": null,
   "metadata": {},
   "outputs": [],
   "source": []
  }
 ],
 "metadata": {
  "kernelspec": {
   "display_name": "Python 3",
   "language": "python",
   "name": "python3"
  },
  "language_info": {
   "codemirror_mode": {
    "name": "ipython",
    "version": 3
   },
   "file_extension": ".py",
   "mimetype": "text/x-python",
   "name": "python",
   "nbconvert_exporter": "python",
   "pygments_lexer": "ipython3",
   "version": "3.7.3"
  }
 },
 "nbformat": 4,
 "nbformat_minor": 2
}
