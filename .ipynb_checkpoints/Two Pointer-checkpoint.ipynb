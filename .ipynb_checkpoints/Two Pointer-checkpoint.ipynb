{
 "cells": [
  {
   "cell_type": "markdown",
   "metadata": {},
   "source": [
    "# 11. Container With Most Water\n",
    "\n",
    "Given n non-negative integers a1, a2, ..., an , where each represents a point at coordinate (i, ai). n vertical lines are drawn such that the two endpoints of line i is at (i, ai) and (i, 0). Find two lines, which together with x-axis forms a container, such that the container contains the most water.\n",
    "\n",
    "Note: You may not slant the container and n is at least 2.\n",
    "\n",
    "Tip: 这道题可以用brutal force来解，就是枚举法举出所有的可能性，但是那样的话时间复杂度是O(n^2). 如果用two pointer的方法来解，时间复杂度为O(n)"
   ]
  },
  {
   "cell_type": "code",
   "execution_count": 1,
   "metadata": {},
   "outputs": [],
   "source": [
    "class Solution(object):\n",
    "    def maxArea(self, height):\n",
    "        \"\"\"\n",
    "        :type height: List[int]\n",
    "        :rtype: int\n",
    "        \"\"\"\n",
    "        # 设置两个pointer在最左和最右。好处是能够一开始取到最大的宽度\n",
    "        l = 0\n",
    "        r = len(height)-1\n",
    "        # 设置变量res来记录当前走过的最大值\n",
    "        res = 0\n",
    "        while l<r:\n",
    "            # 每次计算出当前的水容量\n",
    "            area = min(height[l],height[r])*(r-l)\n",
    "            # 如果水容量大于最大值则进行替换\n",
    "            res = max(res,area)\n",
    "            # 每次移动的时候，短板那边移动。\n",
    "            if height[l]<height[r]:\n",
    "                l +=1\n",
    "            # 在相等的情况，左或者右移都可以\n",
    "            else:\n",
    "                r -=1\n",
    "        return res"
   ]
  },
  {
   "cell_type": "markdown",
   "metadata": {},
   "source": [
    "# 42. Trapping Rain Water\n",
    "\n",
    "Given n non-negative integers representing an elevation map where the width of each bar is 1, compute how much water it is able to trap after raining.\n",
    "\n",
    "Tips：这个题目的关键就是要了解到每一个格子i的积水是格子左边[:i]和右边[i:]中的最小值减去自己h[i], min(max(height[:i]),max(height[i:]))- height[i] 利用这个原理用two-pointer的方法解答。\n",
    "\n",
    "时间复杂度：O(n)\n",
    "空间复杂度：O(1)\n"
   ]
  },
  {
   "cell_type": "code",
   "execution_count": null,
   "metadata": {},
   "outputs": [],
   "source": [
    "class Solution(object):\n",
    "    def trap(self, height):\n",
    "        \"\"\"\n",
    "        :type height: List[int]\n",
    "        :rtype: int\n",
    "        \"\"\"\n",
    "        # 每一个格子i的积水是左边[:i]和右边[i:]中的最小值减去自己h[i], min(max(height[:i]),max(height[i:]))- height[i]\n",
    "        N = len(height)\n",
    "        l = 0\n",
    "        r = N-1\n",
    "        max_l = 0\n",
    "        max_r = 0\n",
    "        ans = 0\n",
    "    \n",
    "        while l<r:\n",
    "            # max_l 和 max_r是在走的过程中不停的记录下来左边和右边的最大值\n",
    "            max_l = max(max_l,height[l])\n",
    "            max_r = max(max_r,height[r])\n",
    "            # 如果出现max_l < max_r的情况，那就说明这个格子i的左边最大值一定比右边要小。\n",
    "            if max_l < max_r:\n",
    "                # 于是在这种情况下，可以算出当前格子的积水，并把左边格子推进\n",
    "                ans += (max_l - height[l])\n",
    "                l +=1\n",
    "            # 反之推出这个格子的右边最大值比左边小，所以格子的积水取决于右边。\n",
    "            else:\n",
    "                # 一旦知道了格子的积水取决于哪边，就可以把格子积水准确算出。\n",
    "                ans += (max_r - height[r])\n",
    "                # 并且推进格子\n",
    "                r -=1\n",
    "        return ans"
   ]
  }
 ],
 "metadata": {
  "kernelspec": {
   "display_name": "Python 3",
   "language": "python",
   "name": "python3"
  },
  "language_info": {
   "codemirror_mode": {
    "name": "ipython",
    "version": 3
   },
   "file_extension": ".py",
   "mimetype": "text/x-python",
   "name": "python",
   "nbconvert_exporter": "python",
   "pygments_lexer": "ipython3",
   "version": "3.7.3"
  }
 },
 "nbformat": 4,
 "nbformat_minor": 2
}
