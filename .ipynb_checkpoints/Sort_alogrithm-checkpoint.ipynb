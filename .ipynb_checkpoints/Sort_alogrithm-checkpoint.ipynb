{
 "cells": [
  {
   "cell_type": "markdown",
   "metadata": {},
   "source": [
    "# Sort algorithm\n",
    "\n",
    "排序的方法：\n",
    "\n",
    "1. 选择排序(selection sort): 每一次找最大值，然后把最大值放在数组的右边 O(n^2）\n",
    "\n",
    "2. 冒泡排序(bubble sort): 遍历数组，如果一个数比后面那个数大，则交换位置。这样一次遍历就会把最大值移到最右边。重复这个操作n次就可以完成排序 O(n^2)\n",
    "\n",
    "3. 插入排序(insertion sort): 原理类似扑克牌的排序方法，一个一个把数加入数组。遍历当前数组，直到找到比自己大的元素，就放在那个元素前面。O(n^2)\n",
    "\n",
    "4. 快速排序(quick sort): 随机选择一个数，然后把比自己小的数移动到左边，再把比自己大的数移动到右边，就完成一次排序。然后采用分治的方法对左边两边的数组再次进行同样操作并进行递归。当最后剩下一个数的时候就是递归的出口\n",
    "\n",
    "5. 归并排序(merge sort): 采用分治的思想，不断把数组分成两半， 分到最后剩下一个数的时候，这个‘小数组’就自动排好序了。然后再将他们合并起来。也是需要用到递归的方法。"
   ]
  },
  {
   "cell_type": "code",
   "execution_count": 1,
   "metadata": {},
   "outputs": [],
   "source": [
    "test_array = [1,4,5,2,3,8,9,11,34,54,12,3,22,1,4,32,9,8,74]"
   ]
  },
  {
   "cell_type": "code",
   "execution_count": 16,
   "metadata": {},
   "outputs": [],
   "source": [
    "# 归并排序\n",
    "\n",
    "def Merge(left, right):\n",
    "    #合并两个排好序的数组\n",
    "    i = 0\n",
    "    j = 0\n",
    "    \n",
    "    n = len(left) + len(right)\n",
    "    merge_list = []\n",
    "    \n",
    "    while i < len(left) and j < len(right):\n",
    "        if left[i] < right[j]:\n",
    "            merge_list.append(left[i])\n",
    "            i += 1\n",
    "        else:\n",
    "            merge_list.append(right[j])\n",
    "            j += 1\n",
    "            \n",
    "    if i == len(left):\n",
    "        merge_list = merge_list + right[j:]\n",
    "    else:\n",
    "        merge_list = merge_list + left[i:]\n",
    "        \n",
    "    return merge_list\n",
    "    \n",
    "\n",
    "def MergeSort(A, l, r):\n",
    "    \n",
    "    if l == r:\n",
    "        return [A[l]]\n",
    "    \n",
    "    mid = l + (r - l)//2\n",
    "    \n",
    "    left = MergeSort(A, l, mid)\n",
    "    right = MergeSort(A, mid + 1, r)\n",
    "    return Merge(left, right)\n",
    "\n",
    "\n",
    "    \n",
    "    "
   ]
  },
  {
   "cell_type": "code",
   "execution_count": 17,
   "metadata": {},
   "outputs": [
    {
     "data": {
      "text/plain": [
       "[1, 1, 2, 3, 3, 4, 4, 5, 8, 8, 9, 9, 11, 12, 22, 32, 34, 54, 74]"
      ]
     },
     "execution_count": 17,
     "metadata": {},
     "output_type": "execute_result"
    }
   ],
   "source": [
    "MergeSort(test_array, 0, len(test_array) - 1)"
   ]
  },
  {
   "cell_type": "code",
   "execution_count": null,
   "metadata": {},
   "outputs": [],
   "source": []
  },
  {
   "cell_type": "code",
   "execution_count": 51,
   "metadata": {},
   "outputs": [
    {
     "data": {
      "text/plain": [
       "8"
      ]
     },
     "execution_count": 51,
     "metadata": {},
     "output_type": "execute_result"
    }
   ],
   "source": [
    "from random import random \n",
    "\n",
    "int(random()* 10)"
   ]
  },
  {
   "cell_type": "code",
   "execution_count": 105,
   "metadata": {},
   "outputs": [],
   "source": [
    "# 快速排序\n",
    "\n",
    "def swap(A, l, r):\n",
    "    temp = A[l]\n",
    "    A[l] = A[r]\n",
    "    A[r] = temp\n",
    "\n",
    "def partition(A, l, r):\n",
    "    # partition的作用是把比pivot小的放在左边，把比pivot大的放在右边\n",
    "    p = l + (r - l)//2\n",
    "#     print('random_p', p)\n",
    "    # 先把pivot放到最右\n",
    "    swap(A, p, r)\n",
    "#     print('A',A)\n",
    "    i = l\n",
    "    for j in range(l, r):\n",
    "#         print('A',A)\n",
    "        #遍历除了最后一个数(pivot)的所有数\n",
    "        if A[j] <= A[r]:\n",
    "            swap(A, i, j)\n",
    "            i += 1\n",
    "            \n",
    "    swap(A, i, r)\n",
    "    #在结束之后，把r和 i + 1互换，这样左边都是小于pivot的，右边都是大于pivot的\n",
    "    return i\n",
    "    \n",
    "def Quicksort(A, l, r):\n",
    "    if r <=l: #因为p + 1可能会大于r (这里用 r ==l or r == l+1也可以。是对等的)\n",
    "        return\n",
    "    print('l', l)\n",
    "    print('r', r)\n",
    "\n",
    "    p = partition(A, l, r)\n",
    "    print('A', A)\n",
    "    print('p', p)\n",
    "    Quicksort(A, l, p - 1)\n",
    "    Quicksort(A, p + 1, r)\n",
    "    \n",
    "    "
   ]
  },
  {
   "cell_type": "code",
   "execution_count": 109,
   "metadata": {},
   "outputs": [
    {
     "name": "stdout",
     "output_type": "stream",
     "text": [
      "l 0\n",
      "r 4\n",
      "A [1, 2, 3, 5, 6]\n",
      "p 2\n",
      "[1, 2, 3, 5, 6]\n"
     ]
    }
   ],
   "source": [
    "Quicksort(A, 0, len(A)-1)\n",
    "print(A)"
   ]
  },
  {
   "cell_type": "code",
   "execution_count": 100,
   "metadata": {},
   "outputs": [
    {
     "name": "stdout",
     "output_type": "stream",
     "text": [
      "[1, 2, 6, 3, 5]\n"
     ]
    }
   ],
   "source": [
    "A = [1,3,6,2,5]\n",
    "swap(A, 1, 3)\n",
    "print(A)"
   ]
  },
  {
   "cell_type": "code",
   "execution_count": 90,
   "metadata": {},
   "outputs": [
    {
     "name": "stdout",
     "output_type": "stream",
     "text": [
      "0\n",
      "[1, 2, 3, 4, 5]\n"
     ]
    }
   ],
   "source": [
    "print(partition(A, 0, len(A)-1))\n",
    "print(A)"
   ]
  },
  {
   "cell_type": "code",
   "execution_count": 112,
   "metadata": {},
   "outputs": [],
   "source": [
    "# kth-largest element 原理是不断缩小范围直到pivot 等于 length - k = pivot\n",
    "\n",
    "def kth_largest(A, k):\n",
    "    l = 0\n",
    "    r = len(A) - 1\n",
    "    target = len(A) - k\n",
    "    \n",
    "    p = partition(A, l, r)\n",
    "    while p!= target:\n",
    "        if p < target:\n",
    "            l = p + 1\n",
    "            p = partition(A, l, r)\n",
    "        else:\n",
    "            r = p - 1\n",
    "            p = partition(A, l, r)\n",
    "            \n",
    "    return A[p]\n",
    "        \n",
    "    "
   ]
  },
  {
   "cell_type": "code",
   "execution_count": 115,
   "metadata": {},
   "outputs": [
    {
     "data": {
      "text/plain": [
       "[1, 2, 3, 5, 6]"
      ]
     },
     "execution_count": 115,
     "metadata": {},
     "output_type": "execute_result"
    }
   ],
   "source": [
    "A"
   ]
  },
  {
   "cell_type": "code",
   "execution_count": 120,
   "metadata": {},
   "outputs": [
    {
     "data": {
      "text/plain": [
       "1"
      ]
     },
     "execution_count": 120,
     "metadata": {},
     "output_type": "execute_result"
    }
   ],
   "source": [
    "kth_largest(A, 5)"
   ]
  },
  {
   "cell_type": "code",
   "execution_count": null,
   "metadata": {},
   "outputs": [],
   "source": []
  }
 ],
 "metadata": {
  "kernelspec": {
   "display_name": "Python 3",
   "language": "python",
   "name": "python3"
  },
  "language_info": {
   "codemirror_mode": {
    "name": "ipython",
    "version": 3
   },
   "file_extension": ".py",
   "mimetype": "text/x-python",
   "name": "python",
   "nbconvert_exporter": "python",
   "pygments_lexer": "ipython3",
   "version": "3.7.3"
  }
 },
 "nbformat": 4,
 "nbformat_minor": 2
}
