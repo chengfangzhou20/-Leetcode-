{
 "cells": [
  {
   "cell_type": "markdown",
   "metadata": {},
   "source": [
    "# 94. Binary Tree Inorder Traversal\n",
    "Given a binary tree, return the inorder traversal of its nodes' values.\n",
    "\n",
    "Tips: \n",
    "\n",
    "Depth First Traversals:\n",
    "\n",
    "- Inorder (Left, Root, Right)\n",
    "- Preorder (Root, Left, Right)\n",
    "- Postorder (Left, Right, Root)\n",
    "\n",
    "在这里iterative用的方法是用栈，如果一直找到左子树的最左并依次加入栈中。然后开始从栈中pop，每次pop都加保存入最终结构。出来依次得到顺序（左）--root。在每次加入一个值都检查有没有右子树，如果有，就又往栈里面添加。从而达到中序遍历的效果"
   ]
  },
  {
   "cell_type": "code",
   "execution_count": null,
   "metadata": {},
   "outputs": [],
   "source": [
    "# Recursive\n",
    "class Solution(object):\n",
    "    def __init__(self):\n",
    "        self.res=[]\n",
    "    def inorderTraversal(self, root):\n",
    "        \"\"\"\n",
    "        :type root: TreeNode\n",
    "        :rtype: List[int]\n",
    "        \"\"\"\n",
    "        if root:\n",
    "            self.inorderTraversal(root.left)\n",
    "            self.res.append(root.val)\n",
    "            self.inorderTraversal(root.right)\n",
    "        \n",
    "        return self.res\n",
    "    \n",
    "# Iterative    \n",
    "class Solution(object):\n",
    "    def inorderTraversal(self, root):\n",
    "        \"\"\"\n",
    "        :type root: TreeNode\n",
    "        :rtype: List[int]\n",
    "        \"\"\"\n",
    "        res = []\n",
    "        current = root\n",
    "        stack = []\n",
    "        while True:\n",
    "            if current:\n",
    "                stack.append(current)\n",
    "                current = current.left\n",
    "            elif stack:\n",
    "                current = stack.pop()\n",
    "                res.append(current.val)\n",
    "                current = current.right\n",
    "            else:\n",
    "                break\n",
    "                \n",
    "        return res"
   ]
  },
  {
   "cell_type": "markdown",
   "metadata": {},
   "source": [
    "# 144. Binary Tree Preorder Traversal\n",
    "\n",
    "Given a binary tree, return the preorder traversal of its nodes' values."
   ]
  },
  {
   "cell_type": "code",
   "execution_count": null,
   "metadata": {},
   "outputs": [],
   "source": [
    "# Recursive\n",
    "class Solution(object):\n",
    "    def __init__(self):\n",
    "        self.res = []\n",
    "    def preorderTraversal(self, root):\n",
    "        \"\"\"\n",
    "        :type root: TreeNode\n",
    "        :rtype: List[int]\n",
    "        \"\"\"\n",
    "        \n",
    "        if root:\n",
    "            self.res.append(root.val)\n",
    "            self.preorderTraversal(root.left)\n",
    "            self.preorderTraversal(root.right)\n",
    "            \n",
    "        return self.res\n",
    "    \n",
    "# Iterative\n",
    "class Solution(object):\n",
    "    def preorderTraversal(self, root):\n",
    "        \"\"\"\n",
    "        :type root: TreeNode\n",
    "        :rtype: List[int]\n",
    "        \"\"\"\n",
    "        res = []\n",
    "        stack = [root]\n",
    "        while stack:\n",
    "            node = stack.pop()\n",
    "            if node:\n",
    "                stack.append(node.right)\n",
    "                stack.append(node.left)\n",
    "                res.append(node.val)"
   ]
  },
  {
   "cell_type": "markdown",
   "metadata": {},
   "source": [
    "# 429. N-ary Tree Level Order Traversal\n",
    "\n",
    "Given an n-ary tree, return the level order traversal of its nodes' values.\n",
    "\n",
    "Nary-Tree input serialization is represented in their level order traversal, each group of children is separated by the null value (See examples).\n",
    "\n",
    "Tips: 这道题目的方法是用queue来实现BST从而进行分层遍历。这个题目(n-ary)和binary的主要区别是把node加入队列的时候要注明node所在的层数，以（node.val,level#)这种形式加入队列。从而在保存最后结果时，可以把同一个level的node保存在同一个list内。"
   ]
  },
  {
   "cell_type": "code",
   "execution_count": 4,
   "metadata": {},
   "outputs": [],
   "source": [
    "class Solution(object):\n",
    "    def levelOrder(self, root):\n",
    "        \"\"\"\n",
    "        :type root: Node\n",
    "        :rtype: List[List[int]]\n",
    "        \"\"\"\n",
    "        \n",
    "        if not root:\n",
    "            return []\n",
    "        \n",
    "        queue = [(root, 0)]\n",
    "        \n",
    "        res = [[]]\n",
    "        while queue:\n",
    "            node, level = queue.pop(0)\n",
    "            \n",
    "            # This if loop can ensure that res has enough element space to store the data\n",
    "            if level >= len(res):\n",
    "                res.append([])\n",
    "            # This is to save the node value in the right level (corresponding to the list index)\n",
    "            res[level].append(node.val)\n",
    "            for child in node.children:\n",
    "                queue.append((child, level + 1))\n",
    "                \n",
    "        return res"
   ]
  },
  {
   "cell_type": "code",
   "execution_count": null,
   "metadata": {},
   "outputs": [],
   "source": []
  }
 ],
 "metadata": {
  "kernelspec": {
   "display_name": "Python 3",
   "language": "python",
   "name": "python3"
  },
  "language_info": {
   "codemirror_mode": {
    "name": "ipython",
    "version": 3
   },
   "file_extension": ".py",
   "mimetype": "text/x-python",
   "name": "python",
   "nbconvert_exporter": "python",
   "pygments_lexer": "ipython3",
   "version": "3.7.3"
  }
 },
 "nbformat": 4,
 "nbformat_minor": 2
}
