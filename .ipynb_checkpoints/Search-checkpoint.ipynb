{
 "cells": [
  {
   "cell_type": "markdown",
   "metadata": {},
   "source": [
    "# 17. Letter Combinations of a Phone Number\n",
    "Given a string containing digits from 2-9 inclusive, return all possible letter combinations that the number could represent.\n",
    "A mapping of digit to letters (just like on the telephone buttons) is given below. Note that 1 does not map to any letters.\n",
    "\n",
    "Tips: 这道题是Combination(组合)。组合的特点是无序的。这题的解法是标准的DFS"
   ]
  },
  {
   "cell_type": "code",
   "execution_count": null,
   "metadata": {},
   "outputs": [],
   "source": [
    "class Solution(object):\n",
    "    def letterCombinations(self, digits):\n",
    "        \"\"\"\n",
    "        :type digits: str\n",
    "        :rtype: List[str]\n",
    "        \"\"\"\n",
    "        if not digits:\n",
    "            return []\n",
    "        number_combination = {2:['a','b','c'],3:['d','e','f'],4:['g','h','i'],5:['j','k','l'],6:['m','n','o'],7:['p','q','r','s'],8:['t','u','v'],9:['w','x','y','z']}\n",
    "        \n",
    "        self.res = []\n",
    "        def dfs(string,index,temp):\n",
    "            # 判断递归的出口\n",
    "            if len(temp) == len(string):\n",
    "                self.res.append(\"\".join(x for x in temp))\n",
    "                return\n",
    "            \n",
    "            # 每次递归的选择为按键上面的字母。可以通过上面的hash table查询\n",
    "            for letter in number_combination[int(string[index])]:\n",
    "                # 因为temp 不在递归里面被修改。\n",
    "                temp.append(letter)\n",
    "                dfs(string, index+1, temp)\n",
    "                # 所以在调用dfs function结束后要马上把temp的还原（这里就是把刚刚加上的元素再去掉）\n",
    "                temp.pop()\n",
    "                \n",
    "        dfs(digits, 0,[])\n",
    "        \n",
    "        return self.res\n"
   ]
  },
  {
   "cell_type": "markdown",
   "metadata": {},
   "source": [
    "# 39. Combination Sum\n",
    "\n",
    "Given a set of candidate numbers (candidates) (without duplicates) and a target number (target), find all unique combinations in candidates where the candidate numbers sums to target.\n",
    "The same repeated number may be chosen from candidates unlimited number of times.\n",
    "\n",
    "Tips；这道题是找一个没有重复的array里面能通过加法得到一个target number的组合。"
   ]
  },
  {
   "cell_type": "code",
   "execution_count": null,
   "metadata": {},
   "outputs": [],
   "source": [
    "class Solution:\n",
    "    def combinationSum(self, candidates: List[int], target: int) -> List[List[int]]:\n",
    "        self.res = []\n",
    "        #candidates.sort()\n",
    "        # 这里在设置dfs function的时候加上index十分重要，后面会讲原因\n",
    "        def dfs(nums, temp, remainder, index):\n",
    "            if remainder ==0:\n",
    "                # 这里append的时候用temp[:]（shallow copy)的方式，这样会复制一个temp,防止地址被改出错的问题\n",
    "                self.res.append(temp[:])\n",
    "            \n",
    "            if remainder <0:\n",
    "                return\n",
    "            \n",
    "            for i in range(index,len(nums)):\n",
    "            # 这里在for loop中加上index非常重要，下一层的index是i,这样的话，同一个元素可以反复利用，但是这个i可以保证当含有这个元素的\n",
    "            # 组合已经都找完的时候，后面的搜索不会重复找和前面一样的组合\n",
    "            # It is import to add index here to avoid duplicate combinate. When we are looking for combination without order, we need to have an index here.\n",
    "                temp.append(nums[i])\n",
    "                # remainder是用来减法来反向设置加法的\n",
    "                dfs(nums,temp,remainder -nums[i],i)\n",
    "                temp.pop()\n",
    "                \n",
    "        \n",
    "        dfs(candidates,[],target,0)\n",
    "    \n",
    "        return self.res"
   ]
  },
  {
   "cell_type": "markdown",
   "metadata": {},
   "source": [
    "# 40. Combination Sum II\n",
    "\n",
    "Given a collection of candidate numbers (candidates) and a target number (target), find all unique combinations in candidates where the candidate numbers sum to target.\n",
    "\n",
    "Each number in candidates may only be used once in the combination.\n",
    "\n",
    "Note: The solution set must not contain duplicate combinations.\n",
    "\n",
    "这一题的关键点是，因为数字只能用一次，给的数字里面又可能有重复。在搜索组合的时候，可以先进性排序，然后再连续遇到两个同样的数字时跳过，这样省去了重复搜索已经找到的组合"
   ]
  },
  {
   "cell_type": "code",
   "execution_count": null,
   "metadata": {},
   "outputs": [],
   "source": [
    "class Solution:\n",
    "    def combinationSum2(self, candidates: List[int], target: int) -> List[List[int]]:\n",
    "        res = []\n",
    "        candidates.sort()\n",
    "        # 排序是这道题的关键，只有先排好了序后面的判断条件才有用\n",
    "        def dfs(candidates, idx, remainder, temp):\n",
    "            if remainder == 0 and temp[:] not in res:\n",
    "                res.append(temp[:])\n",
    "                return\n",
    "\n",
    "            if remainder < 0:\n",
    "                return\n",
    "            \n",
    "            for i in range(idx, len(candidates)):\n",
    "                if i!=idx and candidates[i] == candidates[i-1]:\n",
    "                    # i!=idx是因为在第一次遇到连续同类元素的时候，允许进行全面的查找，每个元素都用一次。\n",
    "                    # 而当i!=idx的时候相当于第二次以这个元素起头来搜索。\n",
    "                    # 而candidates[i] == candidates[i-1]说明了前面一个元素已经把所有可能都包含在内，所以如果再次搜索，则是重复\n",
    "                    # 的搜索。故而当满足这个条件的时候可以跳过\n",
    "                    continue\n",
    "                temp.append(candidates[i])\n",
    "                dfs(candidates, i+1, remainder - candidates[i], temp)\n",
    "                temp.pop()\n",
    "\n",
    "            \n",
    "            return\n",
    "    \n",
    "        dfs(candidates, 0, target, [])\n",
    "\n",
    "\n",
    "        return res"
   ]
  },
  {
   "cell_type": "markdown",
   "metadata": {},
   "source": [
    "# 77. Combinations\n",
    "Given two integers n and k, return all possible combinations of k numbers out of 1 ... n.\n",
    "\n",
    "Tips: 这道题也是combination的题，和上题有一点类似。但是上一题是可以重复使用元素的，而这道题是不可以的。下面有一个trick可以保证不重复使用元素。"
   ]
  },
  {
   "cell_type": "code",
   "execution_count": null,
   "metadata": {},
   "outputs": [],
   "source": [
    "class Solution:\n",
    "    def combine(self, n: int, k: int) -> List[List[int]]:\n",
    "            num = range(1,n+1)\n",
    "\n",
    "            self.res = []\n",
    "            def dfs(num,temp,k,index):\n",
    "                if len(temp) == k:\n",
    "                    # 和上题一样，也是shallow copy\n",
    "                    self.res.append(temp[:])\n",
    "                    return\n",
    "\n",
    "                for i in range(index,len(num)):\n",
    "                    temp.append(num[i])\n",
    "                    # 这个trick在这里，上题输入的是i,所以进入递归下一层后，还是从i开始（也就是说i还是可以使用），这里用i+1替换掉i\n",
    "                    # 这样做可以保证在生成combination的时候不重复使用元素\n",
    "                    # Important! When you want to use each element only once, you do the i+1 trick here!\n",
    "                    dfs(num,temp,k,i+1)\n",
    "\n",
    "                    temp.pop()\n",
    "\n",
    "\n",
    "            dfs(num,[],k,0)\n",
    "\n",
    "            return self.res\n"
   ]
  },
  {
   "cell_type": "markdown",
   "metadata": {},
   "source": [
    "# 78. Subsets\n",
    "\n",
    "Given a set of distinct integers, nums, return all possible subsets (the power set).\n",
    "\n",
    "Tips: 这个题看起来就是简单的combination问题，不可以使用重复元素，所以‘i+1’ trick在这里也用得上\n"
   ]
  },
  {
   "cell_type": "code",
   "execution_count": null,
   "metadata": {},
   "outputs": [],
   "source": [
    "class Solution(object):\n",
    "    def subsets(self, nums):\n",
    "        \"\"\"\n",
    "        :type nums: List[int]\n",
    "        :rtype: List[List[int]]\n",
    "        \"\"\"\n",
    "        self.res = []\n",
    "        \n",
    "        def dfs(nums,temp,index):\n",
    "            if index>len(nums):\n",
    "                return\n",
    "            # if temp in self.res:\n",
    "            #     return\n",
    "            if temp not in self.res:\n",
    "                self.res.append(temp[:])\n",
    "                \n",
    "            for i in range(index,len(nums)):\n",
    "                temp.append(nums[i])\n",
    "                # 标注，这里也使用了i+1的trick\n",
    "                dfs(nums,temp,i+1)\n",
    "                temp.pop()\n",
    "                \n",
    "        dfs(nums,[],0)\n",
    "        \n",
    "        return self.res"
   ]
  },
  {
   "cell_type": "markdown",
   "metadata": {},
   "source": [
    "# 90. Subsets II\n",
    "\n",
    "Given a collection of integers that might contain duplicates, nums, return all possible subsets (the power set).\n",
    "\n",
    "\n",
    "Tips: 这道题和上一题subset类似，唯一的不同点在于这里的数组含有重复的元素。所以在生成组合要避免重复的元素。因为组合是无序的。而在DFS会找出所有情况，自然包括元素一样但是顺序不一样的情况，这里都被视为重复。\n",
    "\n",
    "\n",
    "\n",
    "方法1：生成前，要将数组排序。排序的目的就是不生成重复的组合。把所有人组合生成好放在答案里面，然后每生成一个组合都判断答案集里面是否已经存在。如果存在就不往里面加，反之就加进去 （这种方法比较慢不推荐）\n",
    "方法2："
   ]
  },
  {
   "cell_type": "code",
   "execution_count": null,
   "metadata": {},
   "outputs": [],
   "source": [
    "class Solution(object):\n",
    "    def subsetsWithDup(self, nums):\n",
    "        \"\"\"\n",
    "        :type nums: List[int]\n",
    "        :rtype: List[List[int]]\n",
    "        \"\"\"\n",
    "        self.res = []\n",
    "        # 排序在这一里完成\n",
    "        nums.sort()\n",
    "        # if the initial nums has duplicates, to avoid duplicate, sort it first!\n",
    "        def dfs(nums,temp,index):\n",
    "            if index > len(nums):\n",
    "                return\n",
    "            if temp not in self.res:\n",
    "                self.res.append(temp[:])\n",
    "            \n",
    "            for i in range(index,len(nums)):\n",
    "                temp.append(nums[i])\n",
    "                dfs(nums,temp,i+1)\n",
    "                temp.pop()\n",
    "                \n",
    "        \n",
    "        dfs(nums,[],0)\n",
    "        \n",
    "        return self.res"
   ]
  },
  {
   "cell_type": "markdown",
   "metadata": {},
   "source": [
    "# 216. Combination Sum III\n",
    "\n",
    "Find all possible combinations of k numbers that add up to a number n, given that only numbers from 1 to 9 can be used and each combination should be a unique set of numbers.\n",
    "\n",
    "Tips:这道题同样是找组合的题目。规定了组合的长度为k.其他都和之前一样。因为这里初始集里面的元素是unique的。不必担心重复的问题。"
   ]
  },
  {
   "cell_type": "code",
   "execution_count": null,
   "metadata": {},
   "outputs": [],
   "source": [
    "class Solution(object):\n",
    "    def combinationSum3(self, k, n):\n",
    "        \"\"\"\n",
    "        :type k: int\n",
    "        :type n: int\n",
    "        :rtype: List[List[int]]\n",
    "        \"\"\"\n",
    "        nums = range(1,10)\n",
    "        \n",
    "        self.res = []\n",
    "        \n",
    "        def dfs(nums,temp,curSum,index,n,k):\n",
    "            # 出口条件：1.组合长度大于k\n",
    "            if len(temp)>k:\n",
    "                return\n",
    "            # 出口条件：1.组合sum大于n\n",
    "            if curSum>n:\n",
    "                return\n",
    "            \n",
    "            if curSum == n and len(temp)==k:\n",
    "                self.res.append(temp[:])\n",
    "                \n",
    "            \n",
    "            for i in range(index,len(nums)):\n",
    "                temp.append(nums[i])\n",
    "                dfs(nums,temp,curSum+nums[i],i+1,n,k)\n",
    "                temp.pop()\n",
    "                \n",
    "        \n",
    "        dfs(nums,[],0,0,n,k)\n",
    "        \n",
    "        return self.res"
   ]
  },
  {
   "cell_type": "markdown",
   "metadata": {},
   "source": [
    "# 46. Permutations\n",
    "\n",
    "Given a collection of distinct integers, return all possible permutations.\n",
    "\n",
    "Tips: 这里是排列的题目，因为排列是有序的，在排列里面，就算元素一样，顺序不一样也是不一样的解。这道题也是用dfs,但是长度是固定的，不能重复使用元素（因为长度是一样的i，i+1 trick都不能有)。为了确保每个元素只能用一次，简历一个mapping,使用前检查这个元素有没有被使用过。"
   ]
  },
  {
   "cell_type": "code",
   "execution_count": 1,
   "metadata": {},
   "outputs": [],
   "source": [
    "class Solution(object):\n",
    "    def permute(self, nums):\n",
    "        \"\"\"\n",
    "        :type nums: List[int]\n",
    "        :rtype: List[List[int]]\n",
    "        \"\"\"\n",
    "        self.res = []\n",
    "        def dfs(nums,temp,mapping):\n",
    "            if len(temp)==len(nums):\n",
    "                self.res.append(temp[:])\n",
    "                return\n",
    "            \n",
    "            for i in range(len(nums)):\n",
    "                # 下面的if就是检查nums[i]在不在mapping里面。\n",
    "                # A map is created as a set and used to check is the nums[i] has been used.\n",
    "                if nums[i] not in mapping:\n",
    "                    # 进入下一层前，把元素放入mapping\n",
    "                    mapping.add(nums[i])\n",
    "                    dfs(nums,temp+[nums[i]],mapping)\n",
    "                    # 回到这一层后，把刚刚放入的元素再拿出去\n",
    "                    mapping.remove(nums[i])\n",
    "\n",
    "   \n",
    "        dfs(nums,[],set())\n",
    "        \n",
    "        return self.res"
   ]
  },
  {
   "cell_type": "markdown",
   "metadata": {},
   "source": [
    "# 47. Permutations II\n",
    "\n",
    "Given a collection of numbers that might contain duplicates, return all possible unique permutations.\n",
    "\n",
    "Tips:这道题是上一道题目的加强版，因为有duplicates,所以上一题把num[i]放入mapping检查的方法就不工作了。因为nums[i]不是unique的，但是好消息是i是unique的，所以这一回，我们把i放进去mapping. 即使这样做，还是会出现一个问题。那就是有大量重复的结果。下面会用一个条件判定当前i是否会生成重复的结果\n"
   ]
  },
  {
   "cell_type": "code",
   "execution_count": null,
   "metadata": {},
   "outputs": [],
   "source": [
    "class Solution(object):\n",
    "    def permuteUnique(self, nums):\n",
    "        \"\"\"\n",
    "        :type nums: List[int]\n",
    "        :rtype: List[List[int]]\n",
    "        \"\"\"\n",
    "        self.res = []\n",
    "        nums.sort()\n",
    "        def dfs(nums,temp,mapping):\n",
    "            if len(temp)==len(nums):\n",
    "                self.res.append(temp[:])\n",
    "                return\n",
    "            \n",
    "            for i in range(len(nums)):\n",
    "            \n",
    "                # This line is the key, it can remove all the duplicated permutation\n",
    "                # 这一行非常关键，如果num[i]和nums[i-1]一样（提升开头已经sort过）,并且i-1已经在mapping里面了，跳过这一步。\n",
    "                if i!=0 and nums[i]==nums[i-1] and i-1 in mapping:\n",
    "                    continue\n",
    "                    \n",
    "                if i not in mapping:\n",
    "                    mapping.add(i)\n",
    "                    dfs(nums,temp+[nums[i]],mapping)\n",
    "                    mapping.remove(i)\n",
    "\n",
    "        \n",
    "        dfs(nums,[],set())\n",
    "        \n",
    "        return self.res"
   ]
  },
  {
   "cell_type": "markdown",
   "metadata": {},
   "source": [
    "# 784. Letter Case Permutation\n",
    "\n",
    "Given a string S, we can transform every letter individually to be lowercase or uppercase to create another string.  Return a list of all possible strings we could create.\n",
    "\n",
    "Tips: 这道题目很简单，是需把各种情况列出来就行，顺序并不需要改变，一个是加上upper case, 另外一个是加上lower case.还是以i作为mapping判重的依据"
   ]
  },
  {
   "cell_type": "code",
   "execution_count": null,
   "metadata": {},
   "outputs": [],
   "source": [
    "def letterCasePermutation(self, S):\n",
    "        \"\"\"\n",
    "        :type S: str\n",
    "        :rtype: List[str]\n",
    "        \"\"\"\n",
    "        self.res = []\n",
    "        def dfs(S,temp,i):\n",
    "            \n",
    "            if len(temp) == len(S):\n",
    "                self.res.append(\"\".join(x for x in temp))\n",
    "                return\n",
    "            # in each step, if it is digit, there is only one choice for dfs, if it is letter, there are two choices.\n",
    "            # 如果是数字的话，和原来一样\n",
    "            if S[i].isdigit():\n",
    "                dfs(S,temp+[S[i]],i+1)\n",
    "            # 如果是字母的话，有两个分支    \n",
    "            else:\n",
    "                dfs(S,temp+[lower(S[i])],i+1)\n",
    "                dfs(S,temp+[upper(S[i])],i+1)\n",
    "                    \n",
    "        dfs(S,[],0)\n",
    "        return self.res"
   ]
  },
  {
   "cell_type": "markdown",
   "metadata": {},
   "source": [
    "# 79. Word Search\n",
    "\n",
    "Given a 2D board and a word, find if the word exists in the grid.\n",
    "The word can be constructed from letters of sequentially adjacent cell, where \"adjacent\" cells are those horizontally or vertically neighboring. The same letter cell may not be used more than once.\n",
    "\n",
    "Tips: 这个题就是往四个方向进行DFS.设置好出口就行。唯一需要注意的是走过的路径不要再走"
   ]
  },
  {
   "cell_type": "code",
   "execution_count": null,
   "metadata": {},
   "outputs": [],
   "source": [
    "class Solution(object):\n",
    "    def exist(self, board, word):\n",
    "        \"\"\"\n",
    "        :type board: List[List[str]]\n",
    "        :type word: str\n",
    "        :rtype: bool\n",
    "        \"\"\"\n",
    "        def search(board,word,x,y,d):\n",
    "            # 出界或者找不到就return false\n",
    "            if x<0 or x==len(board) or y<0 or y==len(board[0]) or board[x][y]!=word[d]:\n",
    "                return False\n",
    "            # 没有出界而且一直到长度等于d都没有出错，证明找到了，return true\n",
    "            if d == len(word)-1:\n",
    "                return True\n",
    "            # To avoid revisit the same location, after comparing the current letter to the target letter, the current letter is changed to be 0. After the search process is terminated or finished, we change it back to its original value.\n",
    "            # 为了避免走过重复的格子，走过之后，把它设成0\n",
    "            cur = board[x][y]\n",
    "            board[x][y] = 0\n",
    "            # DFS search in 4 direction\n",
    "            # 四个方向只要有一个方向找到就可以了。\n",
    "            found = search(board,word,x+1,y,d+1) or search(board,word,x-1,y,d+1) or search(board,word,x,y+1,d+1) or search(board,word,x,y-1,d+1)    \n",
    "            # 搜索完之后，把他还原\n",
    "            board[x][y] = cur\n",
    "            \n",
    "            return found\n",
    "            \n",
    "        # 以矩阵里面的每一个格子为起点进行搜索    \n",
    "        for i in range(len(board)):\n",
    "            for j in range(len(board[0])):\n",
    "                # 当前格子可以找到就return true\n",
    "                if search(board,word,i,j,0):\n",
    "                    return True\n",
    "        \n",
    "        return False"
   ]
  },
  {
   "cell_type": "markdown",
   "metadata": {},
   "source": [
    "# 22. Generate Parentheses\n",
    "\n",
    "Given n pairs of parentheses, write a function to generate all combinations of well-formed parentheses.\n",
    "\n",
    "Tips:生成所有括号的组合。是dfs的题目，每次加入左括号或者右括号两个选择。出口条件是右括口的数量大于左括号或者总长度等于目标总长度（不过下面是一开始直接生成固定数量的左右括号，然后看用了多少，但是思维是一样的）"
   ]
  },
  {
   "cell_type": "code",
   "execution_count": null,
   "metadata": {},
   "outputs": [],
   "source": [
    "class Solution:\n",
    "    def generateParenthesis(self, n: int) -> List[str]:\n",
    "        \n",
    "        self.res = []\n",
    "                   \n",
    "        def helper(l,r,temp):\n",
    "            # 出口一：右括号剩余的比左括号剩余的数量多\n",
    "            if r<l:\n",
    "                return\n",
    "            # 出口二：左右括号的数量都用完了\n",
    "            if l==0 and r==0:\n",
    "                self.res.append(temp)\n",
    "                return\n",
    "            # 只要左括号还有，就可以加\n",
    "            if l > 0:\n",
    "                helper(l-1,r,temp+'(')\n",
    "            # 只要右括号还有，就可以加    \n",
    "            if r > 0:\n",
    "                helper(l,r-1,temp+')')\n",
    "                \n",
    "        helper(n,n,'')\n",
    "        \n",
    "        return self.res"
   ]
  },
  {
   "cell_type": "code",
   "execution_count": 2,
   "metadata": {},
   "outputs": [
    {
     "data": {
      "text/plain": [
       "False"
      ]
     },
     "execution_count": 2,
     "metadata": {},
     "output_type": "execute_result"
    }
   ],
   "source": [
    "len([]) > len([1,2,3])"
   ]
  },
  {
   "cell_type": "code",
   "execution_count": null,
   "metadata": {},
   "outputs": [],
   "source": []
  }
 ],
 "metadata": {
  "kernelspec": {
   "display_name": "Python 3 (ipykernel)",
   "language": "python",
   "name": "python3"
  },
  "language_info": {
   "codemirror_mode": {
    "name": "ipython",
    "version": 3
   },
   "file_extension": ".py",
   "mimetype": "text/x-python",
   "name": "python",
   "nbconvert_exporter": "python",
   "pygments_lexer": "ipython3",
   "version": "3.11.2"
  }
 },
 "nbformat": 4,
 "nbformat_minor": 2
}
