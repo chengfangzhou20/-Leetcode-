{
 "cells": [
  {
   "cell_type": "markdown",
   "metadata": {},
   "source": [
    "# 169. Majority Element\n",
    "\n",
    "Given an array of size n, find the majority element. The majority element is the element that appears more than ⌊ n/2 ⌋ times.\n",
    "\n",
    "You may assume that the array is non-empty and the majority element always exist in the array.\n",
    "\n",
    "Tips：这道题有多种解法，这里分享两种，一种是用hash table，一种是用divide and conquer"
   ]
  },
  {
   "cell_type": "code",
   "execution_count": null,
   "metadata": {},
   "outputs": [],
   "source": [
    "# Hash table常规解法。时间复杂度O(n), 空间复杂度O(n)\n",
    "class Solution(object):\n",
    "    def majorityElement(self, nums):\n",
    "        \"\"\"\n",
    "        :type nums: List[int]\n",
    "        :rtype: int\n",
    "        \"\"\"\n",
    "        # hashtable\n",
    "        n = len(nums)\n",
    "        count = {}\n",
    "        for i in range(n):\n",
    "            if nums[i] not in count:\n",
    "                count[nums[i]] = 1\n",
    "            else:\n",
    "                count[nums[i]]+= 1\n",
    "                \n",
    "            if count[nums[i]] >= n/2.0:\n",
    "                break\n",
    "                      \n",
    "        return nums[i] "
   ]
  },
  {
   "cell_type": "markdown",
   "metadata": {},
   "source": [
    "# 153. Find Minimum in Rotated Sorted Array\n",
    "\n",
    "Suppose an array sorted in ascending order is rotated at some pivot unknown to you beforehand.\n",
    "\n",
    "(i.e.,  [0,1,2,4,5,6,7] might become  [4,5,6,7,0,1,2]).\n",
    "\n",
    "Find the minimum element.\n",
    "\n",
    "You may assume no duplicate exists in the array.\n",
    "\n",
    "Tips: 这道题可以排序做O(nlgn)，可以遍历一遍找最小O(n).但是我们利用它已经排好序的特性用分治做，时间复杂度为O(lgn)"
   ]
  },
  {
   "cell_type": "code",
   "execution_count": null,
   "metadata": {},
   "outputs": [],
   "source": [
    "class Solution(object):\n",
    "    def findMin(self, nums):\n",
    "        \"\"\"\n",
    "        :type nums: List[int]\n",
    "        :rtype: int\n",
    "        \"\"\"\n",
    "        # divide and conquer\n",
    "        \n",
    "        def helper(nums,l,r):\n",
    "            # 任意截取的一段array,如果左边小于右边，那证明这是正常排序的array.结束递归并返回最小值（最左边）\n",
    "            if nums[l]<nums[r]:\n",
    "                return nums[l]\n",
    "            # 对于不满足上面的条件的array,divide会一直进行下去，直到变成一个元素为止。所以当剩下一个元素的时候，最小值自然就是自己。\n",
    "            if l == r:\n",
    "                return nums[l]\n",
    "            \n",
    "            # 求mid\n",
    "            mid = l + (r-l)//2\n",
    "            \n",
    "            # 每次只需要返还左边和右边两个array最小值的更小的那一方，如此进行下去就能找到最小值了。\n",
    "\n",
    "            return min(helper(nums,l,mid),helper(nums,mid+1,r))\n",
    "            \n",
    "            \n",
    "        return helper(nums,0,len(nums)-1)"
   ]
  },
  {
   "cell_type": "markdown",
   "metadata": {},
   "source": [
    "# 154. Find Minimum in Rotated Sorted Array II\n",
    "\n",
    "Suppose an array sorted in ascending order is rotated at some pivot unknown to you beforehand.\n",
    "\n",
    "(i.e.,  [0,1,2,4,5,6,7] might become  [4,5,6,7,0,1,2]).\n",
    "\n",
    "Find the minimum element.\n",
    "\n",
    "The array may contain duplicates.\n",
    "\n",
    "Tips：代码和上题一模一样"
   ]
  },
  {
   "cell_type": "code",
   "execution_count": null,
   "metadata": {},
   "outputs": [],
   "source": [
    "class Solution(object):\n",
    "    def findMin(self, nums):\n",
    "        \"\"\"\n",
    "        :type nums: List[int]\n",
    "        :rtype: int\n",
    "        \"\"\"\n",
    "        # divide and conquer\n",
    "        \n",
    "        def helper(nums,l,r):\n",
    "            # 任意截取的一段array,如果左边小于右边，那证明这是正常排序的array.结束递归并返回最小值（最左边）\n",
    "            if nums[l]<nums[r]:\n",
    "                return nums[l]\n",
    "            # 对于不满足上面的条件的array,divide会一直进行下去，直到变成一个元素为止。所以当剩下一个元素的时候，最小值自然就是自己。\n",
    "            if l == r:\n",
    "                return nums[l]\n",
    "            \n",
    "            # 求mid\n",
    "            mid = l + (r-l)//2\n",
    "            \n",
    "            # 每次只需要返还左边和右边两个array最小值的更小的那一方，如此进行下去就能找到最小值了。\n",
    "\n",
    "            return min(helper(nums,l,mid),helper(nums,mid+1,r))\n",
    "            \n",
    "            \n",
    "        return helper(nums,0,len(nums)-1)"
   ]
  }
 ],
 "metadata": {
  "kernelspec": {
   "display_name": "Python 3",
   "language": "python",
   "name": "python3"
  },
  "language_info": {
   "codemirror_mode": {
    "name": "ipython",
    "version": 3
   },
   "file_extension": ".py",
   "mimetype": "text/x-python",
   "name": "python",
   "nbconvert_exporter": "python",
   "pygments_lexer": "ipython3",
   "version": "3.7.3"
  }
 },
 "nbformat": 4,
 "nbformat_minor": 2
}
