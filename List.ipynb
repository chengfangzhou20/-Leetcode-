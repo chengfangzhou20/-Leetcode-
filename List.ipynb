{
 "cells": [
  {
   "cell_type": "markdown",
   "metadata": {},
   "source": [
    "# 445. Add Two Numbers II\n",
    "\n",
    "You are given two non-empty linked lists representing two non-negative integers. The most significant digit comes first and each of their nodes contain a single digit. Add the two numbers and return it as a linked list.\n",
    "\n",
    "You may assume the two numbers do not contain any leading zero, except the number 0 itself.\n",
    "\n",
    "Follow up:\n",
    "What if you cannot modify the input lists? In other words, reversing the lists is not allowed.\n",
    "\n",
    "Tips: 这道题是两个linked list的相加。无论是list或者是linked list相加都可以用精确加法来做（如下所示）。这道题目的难点是linked list无法从尾部往首部遍历。所以需要的处理就是用栈的方法把linked list装进去，再一位一位地进行相加"
   ]
  },
  {
   "cell_type": "code",
   "execution_count": null,
   "metadata": {},
   "outputs": [],
   "source": [
    "# Definition for singly-linked list.\n",
    "# class ListNode(object):\n",
    "#     def __init__(self, val=0, next=None):\n",
    "#         self.val = val\n",
    "#         self.next = next\n",
    "class Solution(object):\n",
    "    def addTwoNumbers(self, l1, l2):\n",
    "        \"\"\"\n",
    "        :type l1: ListNode\n",
    "        :type l2: ListNode\n",
    "        :rtype: ListNode\n",
    "        \"\"\"\n",
    "        # 定义function,把linked list装进栈里面\n",
    "        def traverse(L):\n",
    "            digits = []\n",
    "            while L!=None:\n",
    "                digits.append(L.val)\n",
    "                L = L.next\n",
    "            return digits\n",
    "        # 定义function,把栈转换成linked list\n",
    "        def convert(D):\n",
    "            dummy = ListNode(D[0])\n",
    "            head = dummy\n",
    "            for i in range(1,len(D)):\n",
    "                new_node = ListNode(D[i])\n",
    "                dummy.next = new_node\n",
    "                dummy = dummy.next\n",
    "                \n",
    "            return head\n",
    "        \n",
    "        l1_digits = traverse(l1)\n",
    "        l2_digits = traverse(l2)\n",
    "        \n",
    "        # 精确加法\n",
    "        carry = 0\n",
    "        results = []\n",
    "        while l1_digits or l2_digits or carry!=0:\n",
    "            a = l1_digits.pop() if l1_digits else 0\n",
    "            b = l2_digits.pop() if l2_digits else 0\n",
    "            cur_sum = a+b+carry\n",
    "            results.insert(0,cur_sum%10)\n",
    "            carry = cur_sum//10\n",
    "            \n",
    "        return convert(results)"
   ]
  },
  {
   "cell_type": "markdown",
   "metadata": {},
   "source": [
    "# 24. Swap Nodes in Pairs\n",
    "\n",
    "Given a linked list, swap every two adjacent nodes and return its head.\n",
    "\n",
    "You may not modify the values in the list's nodes, only nodes itself may be changed.\n",
    "\n",
    "Tips:链表的基本操作。建议画图理解。注意的地方是a.next = b 是进行连接的操作。 b = a.next 是assign node的操作，这个操作不进行连接。\n",
    "<img src=\"https://img-blog.csdn.net/20170605150831639?watermark/2/text/aHR0cDovL2Jsb2cuY3Nkbi5uZXQvY2FtZWxsaGY=/font/5a6L5L2T/fontsize/400/fill/I0JBQkFCMA==/dissolve/70/gravity/SouthEast\" width=\"80%\">"
   ]
  },
  {
   "cell_type": "code",
   "execution_count": 1,
   "metadata": {},
   "outputs": [],
   "source": [
    "# Definition for singly-linked list.\n",
    "# class ListNode(object):\n",
    "#     def __init__(self, val=0, next=None):\n",
    "#         self.val = val\n",
    "#         self.next = next\n",
    "class Solution(object):\n",
    "    def swapPairs(self, head):\n",
    "        \"\"\"\n",
    "        :type head: ListNode\n",
    "        :rtype: ListNode\n",
    "        \"\"\"\n",
    "        newHead = ListNode(0)\n",
    "        pre = newHead\n",
    "        newHead.next = head\n",
    "        \n",
    "        # while loop里面的换位置的操作，详细见上图\n",
    "        while pre.next and pre.next.next:\n",
    "            first = pre.next\n",
    "            pre.next = first.next\n",
    "            first.next = first.next.next\n",
    "            pre.next.next = first\n",
    "            pre = first\n",
    "            \n",
    "        return newHead.next"
   ]
  },
  {
   "cell_type": "code",
   "execution_count": 1,
   "metadata": {},
   "outputs": [
    {
     "data": {
      "text/plain": [
       "6"
      ]
     },
     "execution_count": 1,
     "metadata": {},
     "output_type": "execute_result"
    }
   ],
   "source": [
    "sum([1,2,3])"
   ]
  },
  {
   "cell_type": "code",
   "execution_count": null,
   "metadata": {},
   "outputs": [],
   "source": []
  }
 ],
 "metadata": {
  "kernelspec": {
   "display_name": "Python 3",
   "language": "python",
   "name": "python3"
  },
  "language_info": {
   "codemirror_mode": {
    "name": "ipython",
    "version": 3
   },
   "file_extension": ".py",
   "mimetype": "text/x-python",
   "name": "python",
   "nbconvert_exporter": "python",
   "pygments_lexer": "ipython3",
   "version": "3.7.3"
  }
 },
 "nbformat": 4,
 "nbformat_minor": 2
}
