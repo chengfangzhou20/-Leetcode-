{
 "cells": [
  {
   "cell_type": "markdown",
   "id": "8d03745f",
   "metadata": {},
   "source": [
    "Hashmap (dictionary) problems are common in coding interviews and algorithmic competitions. Here are five typical hashmap problems:\n",
    "\n",
    "1. **Two Sum:** Given an array of integers and a target sum, find two distinct numbers that add up to the target sum. This problem can be solved using a hashmap to store values as you traverse the array.\n",
    "\n",
    "2. **Longest Subarray with Sum Divisible by K:** Given an array of integers, find the length of the longest subarray where the sum of elements is divisible by a given integer K. This problem can be solved using a hashmap to track cumulative remainders.\n",
    "\n",
    "3. **Group Anagrams:** Given an array of strings, group the anagrams together. Anagrams are words that have the same characters but in a different order. This problem can be solved using a hashmap to group strings based on their sorted forms.\n",
    "\n",
    "4. **Four Sum II:** Given four lists A, B, C, and D of integer values, compute how many tuples (i, j, k, l) exist such that A[i] + B[j] + C[k] + D[l] is zero. This problem involves using two hashmaps to precompute all possible sums and then finding complementary pairs in the second hashmap.\n",
    "\n",
    "5. **Subarray Sum Equals K:** Given an array of integers and an integer k, you need to find the total number of continuous subarrays whose sum equals k. This problem can be solved using a hashmap to store cumulative sums and their frequencies.\n",
    "\n",
    "These problems showcase a range of techniques you can use with hashmaps, such as tracking indices, counts, cumulative sums, and complementary pairs. Keep in mind that understanding the fundamentals of hashmaps, like collision resolution and hash functions, can greatly assist you in effectively solving these types of problems."
   ]
  },
  {
   "cell_type": "markdown",
   "id": "d8823544",
   "metadata": {},
   "source": [
    "hashmap通常有两种解法：\n",
    "1. two pass hashmap: 先loop一遍，把所有的值和对应的index提前存下来，用空间换时间，然后再loop一遍原来的数组来寻找。在找极值的时候，或者找到只有一个满足条件的结果的时候。这个方法可以做到o(n).但是要找到所有情况的时候，有可能会是o(n^2)\n",
    "2. one pass hashmap: 只loop一遍，一边loop，一边记录下来之前查询过的值。如果能在存好的值里面找到，就返回结果，找不到就把值给存在hashmap"
   ]
  },
  {
   "cell_type": "markdown",
   "id": "de2ea99d",
   "metadata": {},
   "source": [
    "# Two sum"
   ]
  },
  {
   "cell_type": "code",
   "execution_count": 2,
   "id": "6765c3e3",
   "metadata": {},
   "outputs": [],
   "source": [
    "class Solution:\n",
    "    def twoSum(self, nums, target):\n",
    "\n",
    "      # hashmap的做法，先loop 一遍， hashmap记录下来看过的element\n",
    "      # 每一个iteration在hashmap里面去找complementary element\n",
    "      # 找到的话，返回这两个index\n",
    "      \n",
    "      M = {}\n",
    "      for i in range(len(nums)):\n",
    "          complementary = target - nums[i]\n",
    "          if complementary in M:\n",
    "              return[M[complementary], i]\n",
    "          else:\n",
    "              M[nums[i]] = i"
   ]
  },
  {
   "cell_type": "markdown",
   "id": "9debe730",
   "metadata": {},
   "source": [
    "# 3Sum\n",
    "\n",
    "这道题和2sum一样，既可以用hashmap来做也可以用two pointer"
   ]
  },
  {
   "cell_type": "code",
   "execution_count": 3,
   "id": "b5af3a1f",
   "metadata": {},
   "outputs": [
    {
     "name": "stdout",
     "output_type": "stream",
     "text": [
      "[[-1, -1, 2], [-1, 0, 1]]\n"
     ]
    }
   ],
   "source": [
    "def three_sum(nums):\n",
    "    # Sort the input array in ascending order\n",
    "    nums.sort()\n",
    "    result = []\n",
    "    \n",
    "    # Iterate through the array, considering each element as a potential first element of the triplet\n",
    "    for i in range(len(nums) - 2):\n",
    "        # Skip duplicate first elements to avoid duplicate triplets\n",
    "        if i > 0 and nums[i] == nums[i - 1]:\n",
    "            continue\n",
    "        \n",
    "        target = -nums[i]  # The target value to find using two pointers\n",
    "        left, right = i + 1, len(nums) - 1\n",
    "        \n",
    "        # Use two pointers approach to find pairs summing up to the target\n",
    "        while left < right:\n",
    "            if nums[left] + nums[right] == target:\n",
    "                result.append([nums[i], nums[left], nums[right]])\n",
    "                # Skip duplicate second elements and move both pointers\n",
    "                while left < right and nums[left] == nums[left + 1]:\n",
    "                    left += 1\n",
    "                while left < right and nums[right] == nums[right - 1]:\n",
    "                    right -= 1\n",
    "                left += 1\n",
    "                right -= 1\n",
    "            elif nums[left] + nums[right] < target:\n",
    "                left += 1\n",
    "            else:\n",
    "                right -= 1\n",
    "    \n",
    "    return result\n",
    "\n",
    "# Example usage\n",
    "nums = [-1, 0, 1, 2, -1, -4]\n",
    "result = three_sum(nums)\n",
    "print(result)\n"
   ]
  },
  {
   "cell_type": "code",
   "execution_count": 15,
   "id": "f136c2ec",
   "metadata": {},
   "outputs": [
    {
     "name": "stdout",
     "output_type": "stream",
     "text": [
      "0\n",
      "left=2\n",
      "right=5\n",
      "left=3\n",
      "right=5\n",
      "left=4\n",
      "right=5\n",
      "left=5\n",
      "right=5\n",
      "1\n",
      "left=3\n",
      "right=4\n",
      "left=4\n",
      "right=3\n",
      "3\n",
      "left=4\n",
      "right=4\n",
      "[[-1, -1, 2], [-1, 0, 1]]\n"
     ]
    }
   ],
   "source": [
    "def threeSum(nums):\n",
    "        # two pointer的解法和hashmap有点像\n",
    "        # 核心是先选定第一个元素\n",
    "        # 然后再剩下的元素里面找和为residual的组合。找到就记录一下\n",
    "        # 还是要先sort 元素\n",
    "        # 选定一个元素，找到全部可能，如果下一个元素是一样的则跳过\n",
    "\n",
    "        # [-1, -1, 0 , 1, 1, 2, 2, 3]\n",
    "\n",
    "        # r = 1\n",
    "        # [-1, 0 , 1, 1, 2, 2, 3]\n",
    "\n",
    "        nums.sort()\n",
    "        target = 0 \n",
    "        res = []\n",
    "        for i in range(len(nums)-2):\n",
    "            if i > 0 and nums[i] == nums[i-1]:\n",
    "                continue\n",
    "            else:\n",
    "                print(i)\n",
    "                residual = target - nums[i]\n",
    "                left = i+1\n",
    "                right = len(nums)-1\n",
    "\n",
    "            while left < right:\n",
    "                temp = nums[left] + nums[right]\n",
    "                    \n",
    "                if temp == residual:\n",
    "                    res.append([nums[i], nums[left], nums[right]])\n",
    "                    # 找到之后左右都开始收缩\n",
    "                    while left < len(nums)-1 and nums[left] == nums[left+1]:\n",
    "                        left += 1\n",
    "                        print(f'{left=}')\n",
    "                    while right > i+1 and nums[right] == nums[right-1]:\n",
    "                        right -= 1\n",
    "                        print(f'{right=}')\n",
    "                    left += 1\n",
    "                    right -= 1\n",
    "                elif temp < residual:\n",
    "                    left = left + 1\n",
    "                elif temp > residual:\n",
    "                    right = right - 1\n",
    "                    \n",
    "                print(f'{left=}')\n",
    "                print(f'{right=}')\n",
    "\n",
    "        return res\n",
    "    \n",
    "nums = [-1, 0, 1, 2, -1, -4]\n",
    "nums = [-4, -1, -1, 0, 1, 2]\n",
    "result = threeSum(nums)\n",
    "print(result)"
   ]
  },
  {
   "cell_type": "code",
   "execution_count": null,
   "id": "5ac6d4ba",
   "metadata": {},
   "outputs": [],
   "source": [
    "class Solution:\n",
    "    def threeSum(self, nums):\n",
    "        # two sum use two pointer\n",
    "        # two sum is mean it can find two sum in the rest array\n",
    "        # 关键点在于sort没有sort后面的两个条件都不管用\n",
    "        # 关键是避免duplicate\n",
    "        # 用hashmap来搜索，时间复杂读o(n^2)\n",
    "        nums.sort()\n",
    "        M = {}\n",
    "        res = []\n",
    "        target = 0\n",
    "        for i in range(len(nums)):\n",
    "            # record the largest index\n",
    "            M[nums[i]] = i\n",
    "        \n",
    "        # i < j < k\n",
    "        for i in range(len(nums)):\n",
    "            if i > 0 and nums[i] == nums[i-1]:\n",
    "                # 第一次遇到一个元素的时候搜索，后面再遇到相同元素不必要做重复的搜索\n",
    "                continue\n",
    "            for j in range(i+1,len(nums)):\n",
    "                if j != i+1 and nums[j] == nums[j-1]:\n",
    "                    # 第二个元素在第一次使用的时候，如果和前面一个元素相同且前面一个元素恰恰是i则可以考虑一次\n",
    "                    # 之后的都不必再考虑。这条件是去重的关键\n",
    "                    continue\n",
    "                complementary = target - nums[i] - nums[j]\n",
    "                # I just need to make sure these pairs doesn't show up again\n",
    "                # print(f'{i=}')\n",
    "                # print(f'{j=}')\n",
    "                if complementary in M:\n",
    "                    k = M[complementary]\n",
    "\n",
    "                    # print(f'{k=}')\n",
    "                    # 这里k是对应元素最大的index,比较k是确保有足够多的元素可以使用。\n",
    "                    if k > j:\n",
    "                        res.append([nums[i], nums[j], nums[k]])\n",
    "\n",
    "        return res"
   ]
  },
  {
   "cell_type": "markdown",
   "id": "3562cc8b",
   "metadata": {},
   "source": [
    "# Longest Subarray with Sum Divisible by K"
   ]
  },
  {
   "cell_type": "code",
   "execution_count": 17,
   "id": "8942d14d",
   "metadata": {},
   "outputs": [],
   "source": [
    "# one pass 解法\n",
    "def subarraysDivByK(self, nums, k):\n",
    "        \n",
    "        # if divided by 5 residual is the same then substract them should be divisible by k\n",
    "        # use a hash map to record sum from [0: i] for all elements\n",
    "        # for each i, calculate the residual\n",
    "        # and find the residual from the mapping\n",
    "\n",
    "        # use one pass hashmap\n",
    "        prefix_sum_mod = {0: 1}  # Initialize with one prefix sum of 0\n",
    "        prefix_sum = 0\n",
    "        count = 0\n",
    "        \n",
    "        for num in nums:\n",
    "            prefix_sum = (prefix_sum + num) % k  # Calculate the prefix sum modulus K\n",
    "            if prefix_sum in prefix_sum_mod:\n",
    "                count += prefix_sum_mod[prefix_sum]  # Add the count of subarrays\n",
    "            prefix_sum_mod[prefix_sum] = prefix_sum_mod.get(prefix_sum, 0) + 1\n",
    "    \n",
    "        return count"
   ]
  },
  {
   "cell_type": "code",
   "execution_count": 18,
   "id": "7e3719de",
   "metadata": {},
   "outputs": [],
   "source": [
    "## two pass 解法\n",
    "def subarraysDivByK(self, nums, k):\n",
    "        \n",
    "        # if divided by 5 residual is the same then substract them should be divisible by k\n",
    "        # use a hash map to record sum from [0: i] for all elements\n",
    "        # for each i, calculate the residual\n",
    "        # and find the residual from the mapping\n",
    "        cur_sum_mapping = {}\n",
    "        residual_mapping = {}\n",
    "        res = 0\n",
    "        for i in range(len(nums)):\n",
    "            if i == 0:\n",
    "                cur_sum_mapping[i] = nums[i]\n",
    "            else:\n",
    "                cur_sum_mapping[i] = cur_sum_mapping[i-1] + nums[i]\n",
    "\n",
    "            residual = cur_sum_mapping[i] % k\n",
    "            if residual in residual_mapping:\n",
    "                residual_mapping[residual].append(i)\n",
    "            else:\n",
    "                residual_mapping[residual] = [i]\n",
    "\n",
    "        # print(f'{residual_mapping}')\n",
    "        for i in range(len(nums)):\n",
    "            residual = cur_sum_mapping[i] % k\n",
    "            # print(f'{residual=}')\n",
    "            if residual == 0 or cur_sum_mapping[i] == 0:\n",
    "                res += 1\n",
    "            if residual in residual_mapping:\n",
    "                for j in residual_mapping[residual]:\n",
    "                    # print(f'{j=}')\n",
    "                    if j > i:\n",
    "                        res += 1\n",
    "\n",
    "\n",
    "        return res"
   ]
  },
  {
   "cell_type": "markdown",
   "id": "c9227468",
   "metadata": {},
   "source": [
    "# Group Anagrams"
   ]
  },
  {
   "cell_type": "code",
   "execution_count": 19,
   "id": "d5c390e6",
   "metadata": {},
   "outputs": [],
   "source": [
    "def groupAnagrams(self, strs):\n",
    "    # use one pass hashmap\n",
    "    hashmap = {}\n",
    "\n",
    "    for i in range(len(strs)):\n",
    "\n",
    "        s = strs[i]\n",
    "        temp = ''.join(sorted(s))\n",
    "\n",
    "        if temp in hashmap:\n",
    "            hashmap[temp].append(s)\n",
    "        else:\n",
    "            hashmap[temp] = [s]\n",
    "\n",
    "    return hashmap.values()"
   ]
  },
  {
   "cell_type": "markdown",
   "id": "9332617e",
   "metadata": {},
   "source": [
    "# 4Sum II"
   ]
  },
  {
   "cell_type": "markdown",
   "id": "fc66c88a",
   "metadata": {},
   "source": [
    "如果把A和B的两两之和都求出来，在 HashMap 中建立两数之和跟其出现次数之间的映射，那么再遍历C和D中任意两个数之和，只要看哈希表存不存在这两数之和的相反数就行了"
   ]
  },
  {
   "cell_type": "code",
   "execution_count": null,
   "id": "88fea9f5",
   "metadata": {},
   "outputs": [],
   "source": []
  },
  {
   "cell_type": "code",
   "execution_count": null,
   "id": "65fb0530",
   "metadata": {},
   "outputs": [],
   "source": [
    "# hashmap 解法"
   ]
  }
 ],
 "metadata": {
  "kernelspec": {
   "display_name": "Python 3 (ipykernel)",
   "language": "python",
   "name": "python3"
  },
  "language_info": {
   "codemirror_mode": {
    "name": "ipython",
    "version": 3
   },
   "file_extension": ".py",
   "mimetype": "text/x-python",
   "name": "python",
   "nbconvert_exporter": "python",
   "pygments_lexer": "ipython3",
   "version": "3.11.2"
  }
 },
 "nbformat": 4,
 "nbformat_minor": 5
}
